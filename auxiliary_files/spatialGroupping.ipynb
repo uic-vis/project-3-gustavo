{
 "cells": [
  {
   "cell_type": "code",
   "execution_count": 1,
   "metadata": {},
   "outputs": [],
   "source": [
    "import geopandas as gpd\n",
    "import shapely\n",
    "import numpy as np\n",
    "import pandas as pd\n",
    "import matplotlib.pyplot as plt\n",
    "import json"
   ]
  },
  {
   "cell_type": "code",
   "execution_count": 2,
   "metadata": {},
   "outputs": [],
   "source": [
    "df_boundaries = gpd.read_file('boundaries.geojson')\n",
    "\n",
    "f = open(\"../data/water-complaints.json\")\n",
    "data_requests = json.load(f)\n",
    "\n",
    "complaints_data = data_requests[\"data\"]\n",
    "\n",
    "street_direction = []\n",
    "street_type = []\n",
    "latitude = []\n",
    "longitude = []\n",
    "\n",
    "for elem in complaints_data:\n",
    "    if(elem[23] and elem[25] and elem[44] and elem[45]):\n",
    "        street_direction.append(elem[23])\n",
    "        street_type.append(elem[25])\n",
    "        latitude.append(elem[44])\n",
    "        longitude.append(elem[45])\n",
    "\n",
    "df_requests = pd.DataFrame(data={'street_direction': street_direction, 'street_type': street_type, 'latitude': latitude, 'longitude': longitude})\n",
    "\n",
    "df_requests = gpd.GeoDataFrame(df_requests, \n",
    "            geometry=gpd.points_from_xy(df_requests[\"longitude\"], df_requests[\"latitude\"]),\n",
    "            crs=\"4326\")"
   ]
  },
  {
   "cell_type": "code",
   "execution_count": 3,
   "metadata": {},
   "outputs": [],
   "source": [
    "result = gpd.sjoin(df_requests, df_boundaries, predicate='within')"
   ]
  },
  {
   "cell_type": "code",
   "execution_count": 4,
   "metadata": {},
   "outputs": [],
   "source": [
    "result.to_file(\"./water-complaint-zip.geojson\", driver=\"GeoJSON\")"
   ]
  }
 ],
 "metadata": {
  "kernelspec": {
   "display_name": "Python 3.10.6 ('dataAnalysis')",
   "language": "python",
   "name": "python3"
  },
  "language_info": {
   "codemirror_mode": {
    "name": "ipython",
    "version": 3
   },
   "file_extension": ".py",
   "mimetype": "text/x-python",
   "name": "python",
   "nbconvert_exporter": "python",
   "pygments_lexer": "ipython3",
   "version": "3.10.6"
  },
  "orig_nbformat": 4,
  "vscode": {
   "interpreter": {
    "hash": "d412274beb9ee37cdce660cbcdd846248bc13d80e79657904132abc59f741e01"
   }
  }
 },
 "nbformat": 4,
 "nbformat_minor": 2
}
